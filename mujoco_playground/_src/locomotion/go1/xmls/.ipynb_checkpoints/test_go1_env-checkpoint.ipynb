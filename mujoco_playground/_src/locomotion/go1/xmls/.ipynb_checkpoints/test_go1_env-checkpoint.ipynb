{
 "cells": [
  {
   "cell_type": "code",
   "execution_count": 4,
   "id": "31853e84-e7a8-4806-aca4-3a93ff086741",
   "metadata": {},
   "outputs": [],
   "source": [
    "# @title Import MuJoCo, MJX, and Brax\n",
    "from datetime import datetime\n",
    "import functools\n",
    "import os\n",
    "from typing import Any, Dict, Sequence, Tuple, Union\n",
    "from brax import base\n",
    "from brax import envs\n",
    "from brax import math\n",
    "from brax.base import Base, Motion, Transform\n",
    "from brax.base import State as PipelineState\n",
    "from brax.envs.base import Env, PipelineEnv, State\n",
    "from brax.io import html, mjcf, model\n",
    "from brax.mjx.base import State as MjxState\n",
    "from brax.training.agents.ppo import networks as ppo_networks\n",
    "from brax.training.agents.ppo import train as ppo\n",
    "from brax.training.agents.sac import networks as sac_networks\n",
    "from brax.training.agents.sac import train as sac\n",
    "from etils import epath\n",
    "from flax import struct\n",
    "from flax.training import orbax_utils\n",
    "from IPython.display import HTML, clear_output\n",
    "import jax\n",
    "from jax import numpy as jp\n",
    "from matplotlib import pyplot as plt\n",
    "import mediapy as media\n",
    "from ml_collections import config_dict\n",
    "import mujoco\n",
    "from mujoco import mjx\n",
    "import numpy as np\n",
    "from orbax import checkpoint as ocp\n",
    "\n",
    "from mujoco_playground import wrapper\n",
    "from mujoco_playground import registry"
   ]
  },
  {
   "cell_type": "code",
   "execution_count": 9,
   "id": "819b9664-ce9d-457a-b5b6-e542a09c1d27",
   "metadata": {},
   "outputs": [
    {
     "data": {
      "text/plain": [
       "'/home/naika/Work/Projects/mujoco_playground/mujoco_playground/_src/locomotion/go1'"
      ]
     },
     "execution_count": 9,
     "metadata": {},
     "output_type": "execute_result"
    }
   ],
   "source": [
    "pwd"
   ]
  },
  {
   "cell_type": "code",
   "execution_count": 10,
   "id": "8a8df115-fab3-453f-83e6-489e721715d9",
   "metadata": {},
   "outputs": [],
   "source": [
    "xml_feetonly_flat_terrain = \"\"\"\n",
    "<mujoco model=\"go1 feetonly flat terrain scene\">\n",
    "  <include file=\"./xmls/go1_mjx_feetonly.xml\"/>\n",
    "\n",
    "  <statistic center=\"0 0 0.1\" extent=\"0.8\" meansize=\"0.04\"/>\n",
    "\n",
    "  <visual>\n",
    "    <headlight diffuse=\".8 .8 .8\" ambient=\".2 .2 .2\" specular=\"1 1 1\"/>\n",
    "    <rgba force=\"1 0 0 1\"/>\n",
    "    <global azimuth=\"120\" elevation=\"-20\"/>\n",
    "    <map force=\"0.01\"/>\n",
    "    <scale forcewidth=\"0.3\" contactwidth=\"0.5\" contactheight=\"0.2\"/>\n",
    "    <quality shadowsize=\"8192\"/>\n",
    "  </visual>\n",
    "\n",
    "  <asset>\n",
    "    <texture type=\"skybox\" builtin=\"gradient\" rgb1=\"1 1 1\" rgb2=\"1 1 1\" width=\"800\" height=\"800\"/>\n",
    "    <texture type=\"2d\" name=\"groundplane\" builtin=\"checker\" mark=\"edge\" rgb1=\"1 1 1\" rgb2=\"1 1 1\" markrgb=\"0 0 0\"\n",
    "      width=\"300\" height=\"300\"/>\n",
    "    <material name=\"groundplane\" texture=\"groundplane\" texuniform=\"true\" texrepeat=\"5 5\" reflectance=\"0\"/>\n",
    "  </asset>\n",
    "\n",
    "  <worldbody>\n",
    "    <geom name=\"floor\" size=\"0 0 0.01\" type=\"plane\" material=\"groundplane\" contype=\"1\" conaffinity=\"0\" priority=\"1\"\n",
    "      friction=\"0.6\" condim=\"3\"/>\n",
    "  </worldbody>\n",
    "\n",
    "  <keyframe>\n",
    "    <key name=\"home\" qpos=\"\n",
    "    0 0 0.278\n",
    "    1 0 0 0\n",
    "    0.1 0.9 -1.8\n",
    "    -0.1 0.9 -1.8\n",
    "    0.1 0.9 -1.8\n",
    "    -0.1 0.9 -1.8\"\n",
    "      ctrl=\"0.1 0.9 -1.8 -0.1 0.9 -1.8 0.1 0.9 -1.8 -0.1 0.9 -1.8\"/>\n",
    "    <key name=\"home_higher\" qpos=\"0 0 0.31 1 0 0 0 0 0.82 -1.63 0 0.82 -1.63 0 0.82 -1.63 0 0.82 -1.63\"\n",
    "      ctrl=\"0 0.82 -1.63 0 0.82 -1.63 0 0.82 -1.63 0 0.82 -1.63\"/>\n",
    "    <key\n",
    "    name=\"footstand\"\n",
    "    qpos='\n",
    "    0 0 0.54\n",
    "    0.8 0 -0.8 0\n",
    "    0 0.82 -1.6 0 0.82 -1.68 0 1.82 -1.16 0.0 1.82 -1.16'\n",
    "    ctrl='0 0.82 -1.6 0 0.82 -1.68 0 1.82 -1.16 0.0 1.82 -1.16'/>\n",
    "    <key name=\"handstand\"\n",
    "      qpos=\"0 0 0.54\n",
    "      0.8 0 0.8 0\n",
    "      0 -0.686 -1.16\n",
    "      0 -0.686 -1.16\n",
    "      0 1.7 -1.853\n",
    "      0 1.7 -1.853\"\n",
    "      ctrl=\"0 -0.686 -1.16 0 -0.686 -1.16 0 1.7 -1.853 0 1.7 -1.853\"/>\n",
    "    <key name=\"pre_recovery\"\n",
    "      qpos=\"-0.0318481 -0.000215369 0.0579031 1 -2.70738e-05 6.06169e-05 0.000231261 -0.352275 1.18554 -2.80738 0.360892 1.1806 -2.80281 -0.381197 1.16812 -2.79123 0.391054 1.1622 -2.78576\"\n",
    "      ctrl=\"-0.352275 1.18554 -2.80738 0.360892 1.1806 -2.80281 -0.381197 1.16812 -2.79123 0.391054 1.1622 -2.78576\"/>\n",
    "  </keyframe>\n",
    "</mujoco>\n",
    "\"\"\""
   ]
  },
  {
   "cell_type": "code",
   "execution_count": 2,
   "id": "fce28c8d-0580-4fdd-ba2a-aefecf7221fe",
   "metadata": {},
   "outputs": [
    {
     "data": {
      "text/plain": [
       "'<mujoco model=\"go1 feetonly flat terrain scene\">\\n  <include file=\"go1_mjx_feetonly.xml\"/>\\n\\n  <statistic center=\"0 0 0.1\" extent=\"0.8\" meansize=\"0.04\"/>\\n\\n  <visual>\\n    <headlight diffuse=\".8 .8 .8\" ambient=\".2 .2 .2\" specular=\"1 1 1\"/>\\n    <rgba force=\"1 0 0 1\"/>\\n    <global azimuth=\"120\" elevation=\"-20\"/>\\n    <map force=\"0.01\"/>\\n    <scale forcewidth=\"0.3\" contactwidth=\"0.5\" contactheight=\"0.2\"/>\\n    <quality shadowsize=\"8192\"/>\\n  </visual>\\n\\n  <asset>\\n    <texture type=\"skybox\" builtin=\"gradient\" rgb1=\"1 1 1\" rgb2=\"1 1 1\" width=\"800\" height=\"800\"/>\\n    <texture type=\"2d\" name=\"groundplane\" builtin=\"checker\" mark=\"edge\" rgb1=\"1 1 1\" rgb2=\"1 1 1\" markrgb=\"0 0 0\"\\n      width=\"300\" height=\"300\"/>\\n    <material name=\"groundplane\" texture=\"groundplane\" texuniform=\"true\" texrepeat=\"5 5\" reflectance=\"0\"/>\\n  </asset>\\n\\n  <worldbody>\\n    <geom name=\"floor\" size=\"0 0 0.01\" type=\"plane\" material=\"groundplane\" contype=\"1\" conaffinity=\"0\" priority=\"1\"\\n      friction=\"0.6\" condim=\"3\"/>\\n  </worldbody>\\n\\n  <keyframe>\\n    <key name=\"home\" qpos=\"\\n    0 0 0.278\\n    1 0 0 0\\n    0.1 0.9 -1.8\\n    -0.1 0.9 -1.8\\n    0.1 0.9 -1.8\\n    -0.1 0.9 -1.8\"\\n      ctrl=\"0.1 0.9 -1.8 -0.1 0.9 -1.8 0.1 0.9 -1.8 -0.1 0.9 -1.8\"/>\\n    <key name=\"home_higher\" qpos=\"0 0 0.31 1 0 0 0 0 0.82 -1.63 0 0.82 -1.63 0 0.82 -1.63 0 0.82 -1.63\"\\n      ctrl=\"0 0.82 -1.63 0 0.82 -1.63 0 0.82 -1.63 0 0.82 -1.63\"/>\\n    <key\\n    name=\"footstand\"\\n    qpos=\\'\\n    0 0 0.54\\n    0.8 0 -0.8 0\\n    0 0.82 -1.6 0 0.82 -1.68 0 1.82 -1.16 0.0 1.82 -1.16\\'\\n    ctrl=\\'0 0.82 -1.6 0 0.82 -1.68 0 1.82 -1.16 0.0 1.82 -1.16\\'/>\\n    <key name=\"handstand\"\\n      qpos=\"0 0 0.54\\n      0.8 0 0.8 0\\n      0 -0.686 -1.16\\n      0 -0.686 -1.16\\n      0 1.7 -1.853\\n      0 1.7 -1.853\"\\n      ctrl=\"0 -0.686 -1.16 0 -0.686 -1.16 0 1.7 -1.853 0 1.7 -1.853\"/>\\n    <key name=\"pre_recovery\"\\n      qpos=\"-0.0318481 -0.000215369 0.0579031 1 -2.70738e-05 6.06169e-05 0.000231261 -0.352275 1.18554 -2.80738 0.360892 1.1806 -2.80281 -0.381197 1.16812 -2.79123 0.391054 1.1622 -2.78576\"\\n      ctrl=\"-0.352275 1.18554 -2.80738 0.360892 1.1806 -2.80281 -0.381197 1.16812 -2.79123 0.391054 1.1622 -2.78576\"/>\\n  </keyframe>\\n</mujoco>\\n'"
      ]
     },
     "execution_count": 2,
     "metadata": {},
     "output_type": "execute_result"
    }
   ],
   "source": [
    "# prompt: open the xml file that I uploaded in /content\n",
    "\n",
    "# from etils import epath\n",
    "# xml_path = epath.Path('./xmls/scene_mjx_feetonly_flat_terrain.xml') # Replace 'your_xml_file.xml' with the actual filename\n",
    "\n",
    "# # Read the content of the XML file\n",
    "# with open(xml_path, 'r') as f:\n",
    "#     xml_content = f.read()\n",
    "\n",
    "# xml_content"
   ]
  },
  {
   "cell_type": "code",
   "execution_count": 11,
   "id": "cfd6009c-5f34-451c-bc6e-adf030b86182",
   "metadata": {},
   "outputs": [
    {
     "ename": "ValueError",
     "evalue": "Error: Error opening file '../../../../../mujoco_menagerie/unitree_go1/assets/trunk.stl': No such file or directory",
     "output_type": "error",
     "traceback": [
      "\u001b[0;31m---------------------------------------------------------------------------\u001b[0m",
      "\u001b[0;31mValueError\u001b[0m                                Traceback (most recent call last)",
      "Cell \u001b[0;32mIn[11], line 2\u001b[0m\n\u001b[1;32m      1\u001b[0m \u001b[38;5;66;03m# Make model, data, and renderer\u001b[39;00m\n\u001b[0;32m----> 2\u001b[0m mj_model \u001b[38;5;241m=\u001b[39m \u001b[43mmujoco\u001b[49m\u001b[38;5;241;43m.\u001b[39;49m\u001b[43mMjModel\u001b[49m\u001b[38;5;241;43m.\u001b[39;49m\u001b[43mfrom_xml_string\u001b[49m\u001b[43m(\u001b[49m\u001b[43mxml_feetonly_flat_terrain\u001b[49m\u001b[43m)\u001b[49m\n\u001b[1;32m      3\u001b[0m mj_data \u001b[38;5;241m=\u001b[39m mujoco\u001b[38;5;241m.\u001b[39mMjData(mj_model)\n\u001b[1;32m      4\u001b[0m renderer \u001b[38;5;241m=\u001b[39m mujoco\u001b[38;5;241m.\u001b[39mRenderer(mj_model)\n",
      "\u001b[0;31mValueError\u001b[0m: Error: Error opening file '../../../../../mujoco_menagerie/unitree_go1/assets/trunk.stl': No such file or directory"
     ]
    }
   ],
   "source": [
    "# Make model, data, and renderer\n",
    "mj_model = mujoco.MjModel.from_xml_string(xml_feetonly_flat_terrain)\n",
    "mj_data = mujoco.MjData(mj_model)\n",
    "renderer = mujoco.Renderer(mj_model)"
   ]
  },
  {
   "cell_type": "code",
   "execution_count": null,
   "id": "ff01f395-0182-46f7-a770-87138da59391",
   "metadata": {},
   "outputs": [],
   "source": []
  }
 ],
 "metadata": {
  "kernelspec": {
   "display_name": "Python 3 (ipykernel)",
   "language": "python",
   "name": "python3"
  },
  "language_info": {
   "codemirror_mode": {
    "name": "ipython",
    "version": 3
   },
   "file_extension": ".py",
   "mimetype": "text/x-python",
   "name": "python",
   "nbconvert_exporter": "python",
   "pygments_lexer": "ipython3",
   "version": "3.10.12"
  }
 },
 "nbformat": 4,
 "nbformat_minor": 5
}
